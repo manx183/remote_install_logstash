{
 "cells": [
  {
   "cell_type": "code",
   "execution_count": null,
   "metadata": {
    "collapsed": false
   },
   "outputs": [],
   "source": [
    "import pxssh\n",
    "import getpass"
   ]
  },
  {
   "cell_type": "code",
   "execution_count": null,
   "metadata": {
    "collapsed": false
   },
   "outputs": [],
   "source": [
    "try:\n",
    "    s = pxssh.pxssh()\n",
    "    hostname = raw_input('IP Address of target: ') # enter the IP address of target\n",
    "    username = raw_input('username: ') # enter the username\n",
    "    password = getpass.getpass('password: ') # enter password\n",
    "    s.login(hostname, username, password) # login through SSH using credentials supplied by user\n",
    "    s.sendline('wget -qO - https://packages.elastic.co/GPG-KEY-elasticsearch | sudo apt-key add -') # download and add the key for the elasticsearch repo\n",
    "    s.prompt() # wait for prompt before continuing\n",
    "    s.sendline(password) # send password for use in sudo command\n",
    "    s.prompt() # wait for prompt before continuing\n",
    "    print(s.before) # print terminal output from last command\n",
    "    s.sendline('echo \"deb http://packages.elastic.co/logstash/2.1/debian stable main\" | sudo tee -a /etc/apt/sources.list') # add elastic repo to sources\n",
    "    s.prompt() # wait for prompt before continuing\n",
    "    print(s.before) # print terminal output from last command\n",
    "    s.sendline('sudo apt-get update && sudo apt-get install logstash') # update apt-get to retrieve elastic repo info and install logstash\n",
    "    s.prompt() # wait for prompt before continuing\n",
    "    print(s.before) # print terminal output from last command\n",
    "    s.sendline('sudo service logstash status') # check status of service to make sure it installed correctly and is running - same format will be used to restart the service after config changes in completed script\n",
    "    s.prompt() # wait for prompt before continuing\n",
    "    print(s.before) # print terminal output from last command\n",
    "    s.logout() # close SSH connection\n",
    "    print(\"Finished successfully!\")\n",
    "except pxssh.ExceptionPxssh as e:\n",
    "    print(\"pxssh failed on login.\")\n",
    "    print(e)"
   ]
  },
  {
   "cell_type": "code",
   "execution_count": null,
   "metadata": {
    "collapsed": true
   },
   "outputs": [],
   "source": []
  }
 ],
 "metadata": {
  "kernelspec": {
   "display_name": "Python 2",
   "language": "python",
   "name": "python2"
  },
  "language_info": {
   "codemirror_mode": {
    "name": "ipython",
    "version": 2
   },
   "file_extension": ".py",
   "mimetype": "text/x-python",
   "name": "python",
   "nbconvert_exporter": "python",
   "pygments_lexer": "ipython2",
   "version": "2.7.6"
  }
 },
 "nbformat": 4,
 "nbformat_minor": 0
}

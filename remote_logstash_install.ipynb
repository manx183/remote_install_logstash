{
 "cells": [
  {
   "cell_type": "code",
   "execution_count": null,
   "metadata": {
    "collapsed": false
   },
   "outputs": [],
   "source": [
    "import pxssh\n",
    "import getpass"
   ]
  },
  {
   "cell_type": "code",
   "execution_count": null,
   "metadata": {
    "collapsed": false
   },
   "outputs": [],
   "source": [
    "try:\n",
    "    s = pxssh.pxssh()\n",
    "    hostname = raw_input('IP Address of target: ') # enter the IP address of target\n",
    "    username = raw_input('username: ') # enter the username\n",
    "    password = getpass.getpass('password: ')\n",
    "    s.login(hostname, username, password)\n",
    "    s.sendline('wget -qO - https://packages.elastic.co/GPG-KEY-elasticsearch | sudo apt-key add -')\n",
    "    s.prompt()\n",
    "    s.sendline(password)\n",
    "    s.prompt()\n",
    "    print(s.before)\n",
    "    s.sendline('echo \"deb http://packages.elastic.co/logstash/2.1/debian stable main\" | sudo tee -a /etc/apt/sources.list')\n",
    "    s.prompt()\n",
    "    print(s.before)\n",
    "    s.sendline('sudo apt-get update && sudo apt-get install logstash')\n",
    "    s.prompt()\n",
    "    print(s.before)\n",
    "    s.sendline('sudo service logstash status')\n",
    "    s.prompt()\n",
    "    print(s.before)\n",
    "    s.logout()\n",
    "    print(\"Finished successfully!\")\n",
    "except pxssh.ExceptionPxssh as e:\n",
    "    print(\"pxssh failed on login.\")\n",
    "    print(e)"
   ]
  },
  {
   "cell_type": "code",
   "execution_count": null,
   "metadata": {
    "collapsed": true
   },
   "outputs": [],
   "source": []
  }
 ],
 "metadata": {
  "kernelspec": {
   "display_name": "Python 2",
   "language": "python",
   "name": "python2"
  },
  "language_info": {
   "codemirror_mode": {
    "name": "ipython",
    "version": 2
   },
   "file_extension": ".py",
   "mimetype": "text/x-python",
   "name": "python",
   "nbconvert_exporter": "python",
   "pygments_lexer": "ipython2",
   "version": "2.7.6"
  }
 },
 "nbformat": 4,
 "nbformat_minor": 0
}
